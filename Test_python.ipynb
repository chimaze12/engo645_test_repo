{
 "cells": [
  {
   "cell_type": "markdown",
   "execution_count": 1,
   "id": "1892632b-9a6d-4371-8a21-cf932686fbb8",
   "metadata": {
    "tags": []
   },
   "outputs": [
    {
     "name": "stdout",
     "output_type": "stream",
     "text": [
       "![Image displaying the types of data used in spatial data mining](https://github.com/chimaze12/engo645_test_repo/blob/main/Classification-Methods-01.jpg?raw=true)"
     ]
    }
   ],
   "source": [
      "![Image displaying the types of data used in spatial data mining](https://github.com/chimaze12/engo645_test_repo/blob/main/Classification-Methods-01.jpg?raw=true)"
   ]
  },
  {
   "cell_type": "code",
   "execution_count": null,
   "id": "2b03981f-7215-47b5-8926-8205e0900036",
   "metadata": {},
   "outputs": [],
   "source": []
  }
 ],
 "metadata": {
  "kernelspec": {
   "display_name": "Python 3 (ipykernel)",
   "language": "python",
   "name": "python3"
  },
  "language_info": {
   "codemirror_mode": {
    "name": "ipython",
    "version": 3
   },
   "file_extension": ".py",
   "mimetype": "text/x-python",
   "name": "python",
   "nbconvert_exporter": "python",
   "pygments_lexer": "ipython3",
   "version": "3.11.5"
  }
 },
 "nbformat": 4,
 "nbformat_minor": 5
}
